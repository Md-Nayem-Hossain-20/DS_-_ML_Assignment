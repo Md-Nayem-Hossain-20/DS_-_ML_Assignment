{
 "cells": [
  {
   "cell_type": "code",
   "execution_count": 22,
   "id": "f5ba858e-8174-4203-9c28-3d8139a8f961",
   "metadata": {},
   "outputs": [],
   "source": [
    "import pandas as pd"
   ]
  },
  {
   "cell_type": "code",
   "execution_count": 23,
   "id": "98ada4a0-f9e2-41fd-9be4-ad092a5019f6",
   "metadata": {},
   "outputs": [],
   "source": [
    "data = {\n",
    "    \"Weight\": [2, 4, 5, 3, 6, 5, 7],\n",
    "    \"Price\": [35, 60, 20, 50, 50, 55, 60]\n",
    "}\n",
    "df = pd.DataFrame(data)"
   ]
  },
  {
   "cell_type": "code",
   "execution_count": 24,
   "id": "feeccfde-c0b4-4217-8779-2a981154378d",
   "metadata": {},
   "outputs": [],
   "source": [
    "n = len(df)\n",
    "sum_x = df[\"Weight\"].sum()\n",
    "sum_y = df[\"Price\"].sum()\n",
    "sum_xy = (df[\"Weight\"] * df[\"Price\"]).sum()\n",
    "sum_x2 = (df[\"Weight\"] ** 2).sum()\n",
    "\n"
   ]
  },
  {
   "cell_type": "markdown",
   "id": "d37ddb40-3b4e-419d-8a76-27dda6ba3d6b",
   "metadata": {},
   "source": [
    "# Task 01\n"
   ]
  },
  {
   "cell_type": "code",
   "execution_count": 25,
   "id": "e229187b-305b-4487-874f-97f9b94fdae9",
   "metadata": {},
   "outputs": [],
   "source": [
    "M = (n * sum_xy - sum_x * sum_y) / (n * sum_x2 - sum_x ** 2)\n",
    "C = (sum_y - M * sum_x) / n"
   ]
  },
  {
   "cell_type": "code",
   "execution_count": 26,
   "id": "8b90b452-81c6-40a7-a2ee-f40ead32b3c2",
   "metadata": {},
   "outputs": [
    {
     "name": "stdout",
     "output_type": "stream",
     "text": [
      "2.620967741935484\n"
     ]
    }
   ],
   "source": [
    "print(M)"
   ]
  },
  {
   "cell_type": "code",
   "execution_count": 27,
   "id": "31379da1-a015-48bd-b4b0-8188d3688756",
   "metadata": {},
   "outputs": [
    {
     "name": "stdout",
     "output_type": "stream",
     "text": [
      "35.16129032258065\n"
     ]
    }
   ],
   "source": [
    "print(C)"
   ]
  },
  {
   "cell_type": "markdown",
   "id": "e111eee6-e8f7-4aa7-8c06-5373afe696aa",
   "metadata": {},
   "source": [
    "### Predict the price when value is 6.50"
   ]
  },
  {
   "cell_type": "code",
   "execution_count": 28,
   "id": "c49663bf-61c5-4880-ba4e-04f31f653d91",
   "metadata": {},
   "outputs": [],
   "source": [
    "predicted_value = M * 6.50 + C"
   ]
  },
  {
   "cell_type": "code",
   "execution_count": 29,
   "id": "c0682480-cb4a-4d7a-8359-1e32c73225a8",
   "metadata": {},
   "outputs": [
    {
     "name": "stdout",
     "output_type": "stream",
     "text": [
      "52.197580645161295\n"
     ]
    }
   ],
   "source": [
    "print(predicted_value)"
   ]
  },
  {
   "cell_type": "markdown",
   "id": "171a2cd5-bf5e-48a3-8d81-7d8c7c49790d",
   "metadata": {},
   "source": [
    "# Task 02"
   ]
  },
  {
   "cell_type": "code",
   "execution_count": 30,
   "id": "3de85cb8-c3c6-4ce7-ab0f-b17ffc94fbd2",
   "metadata": {},
   "outputs": [],
   "source": [
    "all_predict = df[\"Weight\"] * M + C\n",
    "df[\"Residual\"] = df[\"Price\"] - all_predict"
   ]
  },
  {
   "cell_type": "code",
   "execution_count": 31,
   "id": "64a25365-b242-4074-b925-130c5ec5b1e3",
   "metadata": {},
   "outputs": [
    {
     "name": "stdout",
     "output_type": "stream",
     "text": [
      "   Weight  Price   Residual\n",
      "0       2     35  -5.403226\n",
      "1       4     60  14.354839\n",
      "2       5     20 -28.266129\n",
      "3       3     50   6.975806\n",
      "4       6     50  -0.887097\n",
      "5       5     55   6.733871\n",
      "6       7     60   6.491935\n"
     ]
    }
   ],
   "source": [
    "print(df)"
   ]
  },
  {
   "cell_type": "markdown",
   "id": "8ddc7847-f22e-4e15-a9f5-7083959a4bb4",
   "metadata": {},
   "source": [
    "# Task 3"
   ]
  },
  {
   "cell_type": "code",
   "execution_count": 32,
   "id": "03dd8db7-bf11-4694-bf71-9a5032d4f28b",
   "metadata": {},
   "outputs": [],
   "source": [
    "MSE = (df[\"Residual\"] ** 2).mean()\n",
    "MAE = df[\"Residual\"].abs().mean()"
   ]
  },
  {
   "cell_type": "code",
   "execution_count": 33,
   "id": "6473f9fa-41c3-42c7-bf16-94015149a376",
   "metadata": {},
   "outputs": [
    {
     "name": "stdout",
     "output_type": "stream",
     "text": [
      "167.30990783410135\n"
     ]
    }
   ],
   "source": [
    "print(MSE)"
   ]
  },
  {
   "cell_type": "code",
   "execution_count": 34,
   "id": "b6eecd70-2801-4efb-9a4d-eb34eba48358",
   "metadata": {},
   "outputs": [
    {
     "name": "stdout",
     "output_type": "stream",
     "text": [
      "9.87327188940092\n"
     ]
    }
   ],
   "source": [
    "print(MAE)"
   ]
  },
  {
   "cell_type": "code",
   "execution_count": 35,
   "id": "829068ee-df6d-44ec-92d2-da256c27e84b",
   "metadata": {},
   "outputs": [
    {
     "data": {
      "text/html": [
       "<div>\n",
       "<style scoped>\n",
       "    .dataframe tbody tr th:only-of-type {\n",
       "        vertical-align: middle;\n",
       "    }\n",
       "\n",
       "    .dataframe tbody tr th {\n",
       "        vertical-align: top;\n",
       "    }\n",
       "\n",
       "    .dataframe thead th {\n",
       "        text-align: right;\n",
       "    }\n",
       "</style>\n",
       "<table border=\"1\" class=\"dataframe\">\n",
       "  <thead>\n",
       "    <tr style=\"text-align: right;\">\n",
       "      <th></th>\n",
       "      <th>Weight</th>\n",
       "      <th>Price</th>\n",
       "      <th>Residual</th>\n",
       "    </tr>\n",
       "  </thead>\n",
       "  <tbody>\n",
       "    <tr>\n",
       "      <th>0</th>\n",
       "      <td>2</td>\n",
       "      <td>35</td>\n",
       "      <td>-5.403226</td>\n",
       "    </tr>\n",
       "    <tr>\n",
       "      <th>1</th>\n",
       "      <td>4</td>\n",
       "      <td>60</td>\n",
       "      <td>14.354839</td>\n",
       "    </tr>\n",
       "    <tr>\n",
       "      <th>2</th>\n",
       "      <td>5</td>\n",
       "      <td>20</td>\n",
       "      <td>-28.266129</td>\n",
       "    </tr>\n",
       "    <tr>\n",
       "      <th>3</th>\n",
       "      <td>3</td>\n",
       "      <td>50</td>\n",
       "      <td>6.975806</td>\n",
       "    </tr>\n",
       "    <tr>\n",
       "      <th>4</th>\n",
       "      <td>6</td>\n",
       "      <td>50</td>\n",
       "      <td>-0.887097</td>\n",
       "    </tr>\n",
       "    <tr>\n",
       "      <th>5</th>\n",
       "      <td>5</td>\n",
       "      <td>55</td>\n",
       "      <td>6.733871</td>\n",
       "    </tr>\n",
       "    <tr>\n",
       "      <th>6</th>\n",
       "      <td>7</td>\n",
       "      <td>60</td>\n",
       "      <td>6.491935</td>\n",
       "    </tr>\n",
       "  </tbody>\n",
       "</table>\n",
       "</div>"
      ],
      "text/plain": [
       "   Weight  Price   Residual\n",
       "0       2     35  -5.403226\n",
       "1       4     60  14.354839\n",
       "2       5     20 -28.266129\n",
       "3       3     50   6.975806\n",
       "4       6     50  -0.887097\n",
       "5       5     55   6.733871\n",
       "6       7     60   6.491935"
      ]
     },
     "metadata": {},
     "output_type": "display_data"
    }
   ],
   "source": [
    "display(df)"
   ]
  },
  {
   "cell_type": "markdown",
   "id": "c5ada5c8-0720-43bf-ad4d-c3ad7f4b4ff9",
   "metadata": {},
   "source": [
    "# Task 4"
   ]
  },
  {
   "cell_type": "code",
   "execution_count": 37,
   "id": "8b3cc445-6bf9-47de-96bc-8d0020e4227f",
   "metadata": {},
   "outputs": [],
   "source": [
    "df.to_excel(\"linear_regression_results.xlsx\")"
   ]
  },
  {
   "cell_type": "code",
   "execution_count": null,
   "id": "41146c50-d69e-4d7e-b330-aea3c08de0b1",
   "metadata": {},
   "outputs": [],
   "source": []
  }
 ],
 "metadata": {
  "kernelspec": {
   "display_name": "Python 3 (ipykernel)",
   "language": "python",
   "name": "python3"
  },
  "language_info": {
   "codemirror_mode": {
    "name": "ipython",
    "version": 3
   },
   "file_extension": ".py",
   "mimetype": "text/x-python",
   "name": "python",
   "nbconvert_exporter": "python",
   "pygments_lexer": "ipython3",
   "version": "3.12.4"
  }
 },
 "nbformat": 4,
 "nbformat_minor": 5
}
